{
 "cells": [
  {
   "cell_type": "raw",
   "metadata": {
    "collapsed": true
   },
   "source": [
    "from tools import bpow"
   ]
  },
  {
   "cell_type": "code",
   "execution_count": 26,
   "metadata": {
    "collapsed": false
   },
   "outputs": [
    {
     "data": {
      "text/plain": [
       "\"\\nxticklabels(fontsize=20, color='green')\\ndraw()      # force a draw\\nsavefig('alldone', dpi=300)\\nclose()\\nion()      # turn updating back on\\nplot(rand(20), mfc='g', mec='r', ms=40, mew=4, ls='--', lw=3)\""
      ]
     },
     "execution_count": 26,
     "metadata": {},
     "output_type": "execute_result"
    }
   ],
   "source": [
    "from syracuse import bpow\n",
    "\n",
    "from pylab import *\n",
    "\n",
    "ion()      # turn updates off\n",
    "\n",
    "plot([1, 2])\n",
    "\n",
    "draw()\n",
    "\"\"\"\n",
    "xticklabels(fontsize=20, color='green')\n",
    "draw()      # force a draw\n",
    "savefig('alldone', dpi=300)\n",
    "close()\n",
    "ion()      # turn updating back on\n",
    "plot(rand(20), mfc='g', mec='r', ms=40, mew=4, ls='--', lw=3)\"\"\""
   ]
  }
 ],
 "metadata": {
  "kernelspec": {
   "display_name": "Python 2",
   "language": "python",
   "name": "python2"
  },
  "language_info": {
   "codemirror_mode": {
    "name": "ipython",
    "version": 2
   },
   "file_extension": ".py",
   "mimetype": "text/x-python",
   "name": "python",
   "nbconvert_exporter": "python",
   "pygments_lexer": "ipython2",
   "version": "2.7.9"
  }
 },
 "nbformat": 4,
 "nbformat_minor": 0
}
